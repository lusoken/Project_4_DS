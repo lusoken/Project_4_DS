{
 "cells": [
  {
   "cell_type": "markdown",
   "metadata": {
    "id": "sFMMprGtZdIE"
   },
   "source": [
    "## **Informe final carrera**\n",
    "\n",
    "Para el Informe final de la carrera elegí seguir trabajando con el dataset del Proyecto 3, Amazon reviews, y Procesamiento del lenguaje natural (NLP).\n",
    "\n",
    "Voy a plantear 2 desafíos para implementar:   \n",
    "   \n",
    "**1- Mejorar el preproceamiento del dataset**: en el proyecto 3 solamente utilicé una de las columnas disponibles para entrenar a mi modelo, pero creo que utilizar el resto de la información relevante podría traducirse en mejoras en los resultados de performance del modelo.    \n",
    "**2- Implementar un nuevo modelo de Machine learning: Redes neuronales.** Este modelo no ha sido aplicado en los proyectos anteriores y considero que hoy en día es una solución muy eficaz para muchos de los problemas actuales. Por este motivo, parte del desafío es aprender a implementarlo y evaluar si es de utilidad frente a este problema de NLP.  "
   ]
  },
  {
   "cell_type": "code",
   "execution_count": 7,
   "metadata": {
    "colab": {
     "base_uri": "https://localhost:8080/"
    },
    "id": "OkEIsUowZdIK",
    "outputId": "21ac7f04-fddb-41d7-ece4-ff4631f7db93"
   },
   "outputs": [
    {
     "name": "stderr",
     "output_type": "stream",
     "text": [
      "[nltk_data] Downloading package punkt to /home/lulu/nltk_data...\n",
      "[nltk_data]   Package punkt is already up-to-date!\n",
      "[nltk_data] Downloading package stopwords to /home/lulu/nltk_data...\n",
      "[nltk_data]   Package stopwords is already up-to-date!\n"
     ]
    }
   ],
   "source": [
    "# Importo las librerías\n",
    "import numpy as np\n",
    "from numpy import asarray\n",
    "from numpy import save\n",
    "from numpy import load\n",
    "import itertools\n",
    "import pandas as pd\n",
    "pd.options.display.max_columns = None\n",
    "pd.set_option('display.max_colwidth', None)\n",
    "\n",
    "import nltk\n",
    "nltk.download('punkt')\n",
    "nltk.download('stopwords')\n",
    "import re\n",
    "import spacy\n",
    "import string\n",
    "\n",
    "import xgboost as xgb\n",
    "import sklearn\n",
    "from sklearn.feature_extraction.text import TfidfVectorizer\n",
    "from sklearn.metrics import mean_squared_error, mean_absolute_error\n",
    "from sklearn.model_selection import GridSearchCV\n",
    "\n",
    "import matplotlib.pyplot as plt\n",
    "import seaborn as sns\n",
    "\n",
    "import tensorflow as tf\n",
    "from keras.models import Sequential, load_model\n",
    "from keras.layers.core import Dense, Dropout, Activation\n",
    "from keras.wrappers.scikit_learn import KerasRegressor\n",
    "from keras.models import Sequential\n",
    "from keras.layers import Dense\n",
    "from keras.wrappers.scikit_learn import KerasRegressor\n",
    "\n",
    "# import tensorflow.compat.v1 as tf\n",
    "# tf.disable_v2_behavior() \n",
    "import os\n",
    "os.environ['TF_CPP_MIN_LOG_LEVEL']='3'"
   ]
  },
  {
   "cell_type": "markdown",
   "metadata": {
    "id": "2YEVylJaZdIO"
   },
   "source": [
    "### **1- Preprocesamiento de datos**\n",
    "\n",
    "A diferencia el Proyecto 3 en el que sólo utilicé la columna review_body, en este proyecto voy a agregar la información de review_title y product_category. \n",
    "\n",
    "En el análisis exploratorio del Proyecto 3 fue posible ver que la distribución de stars no era igual para todas las **cateogorías de producto**, de manera que esta información puede ser relevante para la performance del modelo. \n",
    "\n",
    "En el caso del **review_title**, en una inspección rápida se observa que no solamente aparece el título del producto, sino que en algunos casos el usuario aporta información sobre la crítica del producto, que puede emplearse para complementar el texto del review_body. Voy a comenzar evaluando si existen palabras diferenciales asociadas a cada star en review_title para considerar incorporar esta información en el análisis."
   ]
  },
  {
   "cell_type": "code",
   "execution_count": 4,
   "metadata": {},
   "outputs": [
    {
     "data": {
      "text/html": [
       "<div>\n",
       "<style scoped>\n",
       "    .dataframe tbody tr th:only-of-type {\n",
       "        vertical-align: middle;\n",
       "    }\n",
       "\n",
       "    .dataframe tbody tr th {\n",
       "        vertical-align: top;\n",
       "    }\n",
       "\n",
       "    .dataframe thead th {\n",
       "        text-align: right;\n",
       "    }\n",
       "</style>\n",
       "<table border=\"1\" class=\"dataframe\">\n",
       "  <thead>\n",
       "    <tr style=\"text-align: right;\">\n",
       "      <th></th>\n",
       "      <th>review_id</th>\n",
       "      <th>product_id</th>\n",
       "      <th>reviewer_id</th>\n",
       "      <th>stars</th>\n",
       "      <th>review_body</th>\n",
       "      <th>review_title</th>\n",
       "      <th>language</th>\n",
       "      <th>product_category</th>\n",
       "    </tr>\n",
       "  </thead>\n",
       "  <tbody>\n",
       "    <tr>\n",
       "      <th>0</th>\n",
       "      <td>es_0491108</td>\n",
       "      <td>product_es_0296024</td>\n",
       "      <td>reviewer_es_0999081</td>\n",
       "      <td>1</td>\n",
       "      <td>Nada bueno se me fue ka pantalla en menos de 8 meses y no he recibido respuesta del fabricante</td>\n",
       "      <td>television Nevir</td>\n",
       "      <td>es</td>\n",
       "      <td>electronics</td>\n",
       "    </tr>\n",
       "    <tr>\n",
       "      <th>1</th>\n",
       "      <td>es_0869872</td>\n",
       "      <td>product_es_0922286</td>\n",
       "      <td>reviewer_es_0216771</td>\n",
       "      <td>1</td>\n",
       "      <td>Horrible, nos tuvimos que comprar otro porque ni nosotros que sabemos inglés, ni un informático, después de una hora fue capaz de instalarlo</td>\n",
       "      <td>Dinero tirado a la basura con esta compra</td>\n",
       "      <td>es</td>\n",
       "      <td>electronics</td>\n",
       "    </tr>\n",
       "  </tbody>\n",
       "</table>\n",
       "</div>"
      ],
      "text/plain": [
       "    review_id          product_id          reviewer_id  stars  \\\n",
       "0  es_0491108  product_es_0296024  reviewer_es_0999081      1   \n",
       "1  es_0869872  product_es_0922286  reviewer_es_0216771      1   \n",
       "\n",
       "                                                                                                                                    review_body  \\\n",
       "0                                                Nada bueno se me fue ka pantalla en menos de 8 meses y no he recibido respuesta del fabricante   \n",
       "1  Horrible, nos tuvimos que comprar otro porque ni nosotros que sabemos inglés, ni un informático, después de una hora fue capaz de instalarlo   \n",
       "\n",
       "                                review_title language product_category  \n",
       "0                           television Nevir       es      electronics  \n",
       "1  Dinero tirado a la basura con esta compra       es      electronics  "
      ]
     },
     "execution_count": 4,
     "metadata": {},
     "output_type": "execute_result"
    }
   ],
   "source": [
    "# Importo el dataset de entrenamiento, utilizo la libería pandas\n",
    "data = pd.read_json('dataset_es_train.json', lines= True)\n",
    "data.head(2)"
   ]
  },
  {
   "cell_type": "code",
   "execution_count": 5,
   "metadata": {
    "id": "-gYg-1qc6xzT"
   },
   "outputs": [],
   "source": [
    "# Creo datasets para cada categoría de estars\n",
    "data_1_star = data[data['stars'] == 1]\n",
    "data_2_stars = data[data['stars'] == 2]\n",
    "data_3_stars = data[data['stars'] == 3]\n",
    "data_4_stars = data[data['stars'] == 4]\n",
    "data_5_stars = data[data['stars'] == 5]\n",
    "\n",
    "stopwords = nltk.corpus.stopwords.words('spanish')\n",
    "\n",
    "# Luego de evaluar la lista de stopwords, decido dejar algunas palabras que pueden ser relevantes para el trabajo\n",
    "palabras = ['muy', 'no', 'si', 'sin', 'sentido', 'sentida', 'sintiendo', 'siente', 'contra', 'muchos', 'poco', 'más', \n",
    "            'pero', 'porque', 'tanto', 'sentidos', 'sería', 'fuese', 'tuvo', 'tendría', 'tuviese']\n",
    "stopwords = [palabra for palabra in stopwords if palabra not in palabras]\n",
    "\n",
    "# Función para evaluar la frecuencia de palabras\n",
    "def freq_palabras_title(dataset):\n",
    "    review_title_data = []\n",
    "# Agrego las review_title\n",
    "    name =[x for x in globals() if globals()[x] is dataset][0]\n",
    "    for i in range(dataset.shape[0]):\n",
    "        review_title_ = dataset.iloc[i].review_title\n",
    "        review_title_ = review_title_.lower()\n",
    "        review_title_ = nltk.tokenize.RegexpTokenizer(\"[\\w]+\").tokenize(review_title_)  # [\\w]+ Para reconocer caracteres alfanuméricos\n",
    "        # Pasamos todo a minúsculas\n",
    "\n",
    "        review_title_ = [word for word in review_title_ if word not in stopwords]\n",
    "#     review_body_ = [word for word in titular if word not in filtrar]\n",
    "        review_title_data.append(review_title_)\n",
    "    \n",
    "    review_title_data = list(itertools.chain(*review_title_data))\n",
    "    freq_data = nltk.FreqDist(review_title_data)\n",
    "    df_data_title = pd.DataFrame(list(freq_data.items()), columns = [\"Word\",\"Frequency\"])\n",
    "    df_data_title.sort_values('Frequency',ascending=False, inplace = True)\n",
    "    df_data_title.reset_index(drop = True, inplace=True)\n",
    "    \n",
    "    plt.figure(figsize = (10, 6))\n",
    "    plt.title('Palabras más frecuentes en dataset %s' %name, fontsize=15)\n",
    "    plot = sns.barplot(x  = df_data_title.iloc[:20].Word, y = df_data_title.iloc[:20].Frequency)\n",
    "    \n",
    "    for item in plot.get_xticklabels():\n",
    "        item.set_rotation(90)\n",
    "    plt.show()\n",
    "    return"
   ]
  },
  {
   "cell_type": "code",
   "execution_count": 8,
   "metadata": {
    "id": "XIILPeKV63tN"
   },
   "outputs": [
    {
     "data": {
      "image/png": "[encoded data removed]",
      "text/plain": [
       "<Figure size 720x432 with 1 Axes>"
      ]
     },
     "metadata": {
      "needs_background": "light"
     },
     "output_type": "display_data"
    },
    {
     "data": {
      "image/png": "[encoded data removed]",
      "text/plain": [
       "<Figure size 720x432 with 1 Axes>"
      ]
     },
     "metadata": {
      "needs_background": "light"
     },
     "output_type": "display_data"
    },
    {
     "data": {
      "image/png": "[encoded data removed]",
      "text/plain": [
       "<Figure size 720x432 with 1 Axes>"
      ]
     },
     "metadata": {
      "needs_background": "light"
     },
     "output_type": "display_data"
    },
    {
     "data": {
      "image/png": "[encoded data removed]",
      "text/plain": [
       "<Figure size 720x432 with 1 Axes>"
      ]
     },
     "metadata": {
      "needs_background": "light"
     },
     "output_type": "display_data"
    },
    {
     "data": {
      "image/png": "[encoded data removed]",
      "text/plain": [
       "<Figure size 720x432 with 1 Axes>"
      ]
     },
     "metadata": {
      "needs_background": "light"
     },
     "output_type": "display_data"
    }
   ],
   "source": [
    "# Recorro los datasets según el filtro de 2, 3 4 y 5 estrellas para ver cuál es la distribución de palabras mśa frecuentes.\n",
    "datasets = [data_1_star, data_2_stars, data_3_stars, data_4_stars, data_5_stars]\n",
    "\n",
    "for i in datasets:\n",
    "    freq_palabras_title(i)"
   ]
  },
  {
   "cell_type": "markdown",
   "metadata": {
    "id": "1DW_9aRk67Ex"
   },
   "source": [
    "Se observa que hay palabras más asociadas a cada categoría de stars como era esperable. Palabras de connotación negativa como \"no\", \"mala\" o \"mal\" se asocian más a 1 star mientras que otras palabras de connotación positiva como \"buena\", \"perfecto\" o \"buen\" se asocian más a 5 stars.\n",
    "\n",
    "Por este motivo decido incorporar además de product_category, el feature review_title al análisis en este proyecto.\n",
    "\n",
    "A continuación comienzo el preprocesamiento de datos consistente en unir las columnas review_body, review_title y product_category para posteriormente realizar la Lemmatización y la aplicación de CountVectorizer (Bag of words) + TF-IDF."
   ]
  },
  {
   "cell_type": "code",
   "execution_count": null,
   "metadata": {
    "id": "9nf1oRdCZdIP"
   },
   "outputs": [],
   "source": [
    "# Elimino las columnas que no voy a utilizar en mi modelo\n",
    "data = data.drop(['review_id', 'product_id', 'reviewer_id', 'language'], axis = 1)"
   ]
  },
  {
   "cell_type": "code",
   "execution_count": null,
   "metadata": {
    "id": "o4vz3534ZdIQ",
    "outputId": "7fcc0fb5-fca9-4762-b077-2b6387a667ba"
   },
   "outputs": [
    {
     "data": {
      "text/html": [
       "<div>\n",
       "<style scoped>\n",
       "    .dataframe tbody tr th:only-of-type {\n",
       "        vertical-align: middle;\n",
       "    }\n",
       "\n",
       "    .dataframe tbody tr th {\n",
       "        vertical-align: top;\n",
       "    }\n",
       "\n",
       "    .dataframe thead th {\n",
       "        text-align: right;\n",
       "    }\n",
       "</style>\n",
       "<table border=\"1\" class=\"dataframe\">\n",
       "  <thead>\n",
       "    <tr style=\"text-align: right;\">\n",
       "      <th></th>\n",
       "      <th>stars</th>\n",
       "      <th>review_title_cat</th>\n",
       "    </tr>\n",
       "  </thead>\n",
       "  <tbody>\n",
       "    <tr>\n",
       "      <th>0</th>\n",
       "      <td>1</td>\n",
       "      <td>Nada bueno se me fue ka pantalla en menos de 8 meses y no he recibido respuesta del fabricante television Nevir electronics</td>\n",
       "    </tr>\n",
       "    <tr>\n",
       "      <th>1</th>\n",
       "      <td>1</td>\n",
       "      <td>Horrible, nos tuvimos que comprar otro porque ni nosotros que sabemos inglés, ni un informático, después de una hora fue capaz de instalarlo Dinero tirado a la basura con esta compra electronics</td>\n",
       "    </tr>\n",
       "  </tbody>\n",
       "</table>\n",
       "</div>"
      ],
      "text/plain": [
       "   stars  \\\n",
       "0      1   \n",
       "1      1   \n",
       "\n",
       "                                                                                                                                                                                     review_title_cat  \n",
       "0                                                                         Nada bueno se me fue ka pantalla en menos de 8 meses y no he recibido respuesta del fabricante television Nevir electronics  \n",
       "1  Horrible, nos tuvimos que comprar otro porque ni nosotros que sabemos inglés, ni un informático, después de una hora fue capaz de instalarlo Dinero tirado a la basura con esta compra electronics  "
      ]
     },
     "execution_count": 45,
     "metadata": {
      "tags": []
     },
     "output_type": "execute_result"
    }
   ],
   "source": [
    "# Creo una nueva columna que contenga la información de review_body + review_title + product_category\n",
    "data['review'] = data['review_body'].str.cat(data['review_title'],sep=\" \")\n",
    "data['review_title_cat'] = data['review'].str.cat(data['product_category'],sep=\" \")\n",
    "\n",
    "# Elimino las columnas que no voy a utilizar en mi modelo\n",
    "data = data.drop(['review_body', 'review_title', 'product_category', 'review'], axis = 1)\n",
    "data.head(2)"
   ]
  },
  {
   "cell_type": "markdown",
   "metadata": {
    "id": "Nuz04UEqZdIR"
   },
   "source": [
    "Voy a eliminar mayúsculas, caracteres no alfanuméricos de review_title_cat. Para esto empleo la libería nltk."
   ]
  },
  {
   "cell_type": "code",
   "execution_count": null,
   "metadata": {
    "id": "TaueuLfpZdIR"
   },
   "outputs": [],
   "source": [
    "review_body=[]\n",
    "for review in data.review_title_cat:\n",
    "    # Vamos a reemplzar los caracteres que no sean leras por espacios\n",
    "    review=re.sub(\"[^a-zA-Z]\",\" \",str(review))\n",
    "    # Pasamos todo a minúsculas\n",
    "    review=review.lower()\n",
    "    # Tokenizamos para separar las palabras del titular\n",
    "    review=nltk.word_tokenize(review)\n",
    "    #Volvemos a unir el review\n",
    "    review=\" \".join(review)\n",
    "    # Vamos armando una lista con todos los titulares\n",
    "    review_body.append(review)"
   ]
  },
  {
   "cell_type": "code",
   "execution_count": null,
   "metadata": {
    "id": "D34jgylMZdIS"
   },
   "outputs": [],
   "source": [
    "data[\"review_1\"] = review_body\n",
    "data = data.drop('review_title_cat', axis = 1)"
   ]
  },
  {
   "cell_type": "code",
   "execution_count": null,
   "metadata": {
    "id": "S0rCnEdSZdIS",
    "outputId": "ac66c669-d000-433f-edf4-8d86334f67a9"
   },
   "outputs": [
    {
     "data": {
      "text/html": [
       "<div>\n",
       "<style scoped>\n",
       "    .dataframe tbody tr th:only-of-type {\n",
       "        vertical-align: middle;\n",
       "    }\n",
       "\n",
       "    .dataframe tbody tr th {\n",
       "        vertical-align: top;\n",
       "    }\n",
       "\n",
       "    .dataframe thead th {\n",
       "        text-align: right;\n",
       "    }\n",
       "</style>\n",
       "<table border=\"1\" class=\"dataframe\">\n",
       "  <thead>\n",
       "    <tr style=\"text-align: right;\">\n",
       "      <th></th>\n",
       "      <th>stars</th>\n",
       "      <th>review_1</th>\n",
       "    </tr>\n",
       "  </thead>\n",
       "  <tbody>\n",
       "    <tr>\n",
       "      <th>0</th>\n",
       "      <td>1</td>\n",
       "      <td>nada bueno se me fue ka pantalla en menos de meses no he recibido respuesta del fabricante television nevir electronics</td>\n",
       "    </tr>\n",
       "    <tr>\n",
       "      <th>1</th>\n",
       "      <td>1</td>\n",
       "      <td>horrible nos tuvimos que comprar otro porque ni nosotros que sabemos ingl ni un inform tico despu de una hora fue capaz de instalarlo dinero tirado la basura con esta compra electronics</td>\n",
       "    </tr>\n",
       "  </tbody>\n",
       "</table>\n",
       "</div>"
      ],
      "text/plain": [
       "   stars  \\\n",
       "0      1   \n",
       "1      1   \n",
       "\n",
       "                                                                                                                                                                                    review_1  \n",
       "0                                                                    nada bueno se me fue ka pantalla en menos de meses no he recibido respuesta del fabricante television nevir electronics  \n",
       "1  horrible nos tuvimos que comprar otro porque ni nosotros que sabemos ingl ni un inform tico despu de una hora fue capaz de instalarlo dinero tirado la basura con esta compra electronics  "
      ]
     },
     "execution_count": 53,
     "metadata": {
      "tags": []
     },
     "output_type": "execute_result"
    }
   ],
   "source": [
    "data.head(2)"
   ]
  },
  {
   "cell_type": "code",
   "execution_count": null,
   "metadata": {
    "id": "kxTeYwhbZdIT"
   },
   "outputs": [],
   "source": [
    "# Guardo el archivo\n",
    "data.to_csv (r'/home/lulu/Documents/Acámica/data_proyecto4.csv', index = False, header=True)"
   ]
  },
  {
   "cell_type": "code",
   "execution_count": null,
   "metadata": {
    "id": "kqq2rR2sZdIT",
    "outputId": "90f6b724-fd9b-4006-8da4-581609e5238a"
   },
   "outputs": [
    {
     "data": {
      "text/html": [
       "<div>\n",
       "<style scoped>\n",
       "    .dataframe tbody tr th:only-of-type {\n",
       "        vertical-align: middle;\n",
       "    }\n",
       "\n",
       "    .dataframe tbody tr th {\n",
       "        vertical-align: top;\n",
       "    }\n",
       "\n",
       "    .dataframe thead th {\n",
       "        text-align: right;\n",
       "    }\n",
       "</style>\n",
       "<table border=\"1\" class=\"dataframe\">\n",
       "  <thead>\n",
       "    <tr style=\"text-align: right;\">\n",
       "      <th></th>\n",
       "      <th>stars</th>\n",
       "      <th>review_1</th>\n",
       "    </tr>\n",
       "  </thead>\n",
       "  <tbody>\n",
       "    <tr>\n",
       "      <th>0</th>\n",
       "      <td>1</td>\n",
       "      <td>nada bueno se me fue ka pantalla en menos de meses no he recibido respuesta del fabricante television nevir electronics</td>\n",
       "    </tr>\n",
       "    <tr>\n",
       "      <th>1</th>\n",
       "      <td>1</td>\n",
       "      <td>horrible nos tuvimos que comprar otro porque ni nosotros que sabemos ingl ni un inform tico despu de una hora fue capaz de instalarlo dinero tirado la basura con esta compra electronics</td>\n",
       "    </tr>\n",
       "    <tr>\n",
       "      <th>2</th>\n",
       "      <td>1</td>\n",
       "      <td>te obligan comprar dos unidades te llega solo una no hay forma de reclamar una autentica estafa no compreis solo llega una unidad cuando te obligan comprar dos drugstore</td>\n",
       "    </tr>\n",
       "    <tr>\n",
       "      <th>3</th>\n",
       "      <td>1</td>\n",
       "      <td>no entro en descalificar al vendedor solo puedo decir que tras dos meses de espera sigo sin el producto tuve que contactar con amazon para reclamar su reembolso amazon un se hace cargo del problema pero yo desembolsado mi dinero en dos meses me lo devuelven perdida de tiempo total sin palabras ustedes deciden producto no recibido wireless</td>\n",
       "    </tr>\n",
       "    <tr>\n",
       "      <th>4</th>\n",
       "      <td>1</td>\n",
       "      <td>llega tarde co la talla equivocada devuelto shoes</td>\n",
       "    </tr>\n",
       "  </tbody>\n",
       "</table>\n",
       "</div>"
      ],
      "text/plain": [
       "   stars  \\\n",
       "0      1   \n",
       "1      1   \n",
       "2      1   \n",
       "3      1   \n",
       "4      1   \n",
       "\n",
       "                                                                                                                                                                                                                                                                                                                                               review_1  \n",
       "0                                                                                                                                                                                                                               nada bueno se me fue ka pantalla en menos de meses no he recibido respuesta del fabricante television nevir electronics  \n",
       "1                                                                                                                                                             horrible nos tuvimos que comprar otro porque ni nosotros que sabemos ingl ni un inform tico despu de una hora fue capaz de instalarlo dinero tirado la basura con esta compra electronics  \n",
       "2                                                                                                                                                                             te obligan comprar dos unidades te llega solo una no hay forma de reclamar una autentica estafa no compreis solo llega una unidad cuando te obligan comprar dos drugstore  \n",
       "3  no entro en descalificar al vendedor solo puedo decir que tras dos meses de espera sigo sin el producto tuve que contactar con amazon para reclamar su reembolso amazon un se hace cargo del problema pero yo desembolsado mi dinero en dos meses me lo devuelven perdida de tiempo total sin palabras ustedes deciden producto no recibido wireless  \n",
       "4                                                                                                                                                                                                                                                                                                     llega tarde co la talla equivocada devuelto shoes  "
      ]
     },
     "execution_count": 55,
     "metadata": {
      "tags": []
     },
     "output_type": "execute_result"
    }
   ],
   "source": [
    "data = pd.read_csv('data_proyecto4.csv')\n",
    "data.dropna(axis=0,inplace=True)  # Descarto nan\n",
    "data.head()"
   ]
  },
  {
   "cell_type": "markdown",
   "metadata": {
    "id": "rwuFI46dZdIU"
   },
   "source": [
    "**Lemmatización**\n",
    "\n",
    "Elijo esta metodología en lugar de la Stemmización, ya que si bien es computacionalmente más costoso, me permite ir a la raíz de la palabra utilizando el contexto y la función de la palabra en el texto. Debido a que el dataset se encuentra en español NLTK no ha funcionado bien para realizar la lemmatización (no dispone de librerías para este proceso en español) por lo que decido utilizar **spaCy v3.0** que cuenta con buenas referencias para este proceso."
   ]
  },
  {
   "cell_type": "code",
   "execution_count": null,
   "metadata": {
    "id": "HqsX7H2KZdIU"
   },
   "outputs": [],
   "source": [
    "# Cargo el modelo del lenguaje en español, para esto empleo spacy\n",
    "nlp = spacy.load(\"es_dep_news_trf\")"
   ]
  },
  {
   "cell_type": "code",
   "execution_count": null,
   "metadata": {
    "id": "OmfsYWMGZdIU"
   },
   "outputs": [],
   "source": [
    "# Función para lemmatizar con spacy\n",
    "def spacy_lemma(dataset):\n",
    "    lem_list=[]\n",
    "    for review_body in dataset.review_1:\n",
    "        # Convierto a nlp \n",
    "        doc = nlp(review_body)\n",
    "        # Lemmatización\n",
    "        output = [word.lemma_ for word in doc] \n",
    "        # Por ultimo volvemos a unir el titular\n",
    "        output = \" \".join(output)\n",
    "        # Uno a la lista vacía\n",
    "        lem_list.append(output)\n",
    "        # pd.set_option('display.max_colwidth', None)      \n",
    "    dataset[\"review_lemm\"] = lem_list  \n",
    "    return"
   ]
  },
  {
   "cell_type": "code",
   "execution_count": null,
   "metadata": {
    "id": "ITbLerxqZdIV"
   },
   "outputs": [],
   "source": [
    "# Llamo a la función \n",
    "spacy_lemma(data)\n",
    "# Guardo el dataset lemmatizado\n",
    "data.to_csv (r'/home/lulu/Documents/Acámica/data_proyecto4_lemma.csv', index = False, header=True)"
   ]
  },
  {
   "cell_type": "markdown",
   "metadata": {
    "id": "KXwrTOnbZdIV"
   },
   "source": [
    "Realizo el mismo preprocesamiento con el set de testeo"
   ]
  },
  {
   "cell_type": "code",
   "execution_count": null,
   "metadata": {
    "id": "wY5VpZRmZdIW",
    "outputId": "a3c3f0ae-37f4-48ab-d6d1-32528f0fd1b9"
   },
   "outputs": [
    {
     "data": {
      "text/html": [
       "<div>\n",
       "<style scoped>\n",
       "    .dataframe tbody tr th:only-of-type {\n",
       "        vertical-align: middle;\n",
       "    }\n",
       "\n",
       "    .dataframe tbody tr th {\n",
       "        vertical-align: top;\n",
       "    }\n",
       "\n",
       "    .dataframe thead th {\n",
       "        text-align: right;\n",
       "    }\n",
       "</style>\n",
       "<table border=\"1\" class=\"dataframe\">\n",
       "  <thead>\n",
       "    <tr style=\"text-align: right;\">\n",
       "      <th></th>\n",
       "      <th>stars</th>\n",
       "      <th>review_1</th>\n",
       "    </tr>\n",
       "  </thead>\n",
       "  <tbody>\n",
       "    <tr>\n",
       "      <th>0</th>\n",
       "      <td>1</td>\n",
       "      <td>no me llego el articulo me lo mando por correos normal sin seguimiento y nunca me llego tota un desastre no me llego wireless</td>\n",
       "    </tr>\n",
       "    <tr>\n",
       "      <th>1</th>\n",
       "      <td>1</td>\n",
       "      <td>la mensajer a horrible no compro mas amazon sigue sin cumplir en las entregas home</td>\n",
       "    </tr>\n",
       "    <tr>\n",
       "      <th>2</th>\n",
       "      <td>1</td>\n",
       "      <td>estoy muy decepcionado con el vendedor ya que el pedido no me lleg a tiempo y no cumpli los plazos de env o y era una cosa que necesitaba urgente para colmo me pongo en contacto con el vendedor y no da se ales no recomiendo nada estafa en el env o toy</td>\n",
       "    </tr>\n",
       "    <tr>\n",
       "      <th>3</th>\n",
       "      <td>1</td>\n",
       "      <td>mi valoraci n no es sobre el producto sino sobre amazon ofrec is el producto a y tras varios d as me devolv is el dinero porque os hab is equivocado en el anuncio seg n vosotros ahora es es la primera vez que me ocurre esto cuando he comprado en cualquier sitio y el precio marcado no se correspond a con el valor de caja siempre me lo han vendido con el precio marcado es inveros mil lo ocurrido pero la ultima palabra me la dar la oficina del consumidor estafa de amazon home</td>\n",
       "    </tr>\n",
       "    <tr>\n",
       "      <th>4</th>\n",
       "      <td>1</td>\n",
       "      <td>pues ten a inter s en este libro y prob la versi n kindle se abre la portada pero nada m s parece una mala broma pero me iba a gastar el dedo de tanto tratar que pasara de p gina de alguna forma no puedo valorar nada de nada no consegu pasar de la portada en kindle digital ebook purchase</td>\n",
       "    </tr>\n",
       "  </tbody>\n",
       "</table>\n",
       "</div>"
      ],
      "text/plain": [
       "   stars  \\\n",
       "0      1   \n",
       "1      1   \n",
       "2      1   \n",
       "3      1   \n",
       "4      1   \n",
       "\n",
       "                                                                                                                                                                                                                                                                                                                                                                                                                                                                                        review_1  \n",
       "0                                                                                                                                                                                                                                                                                                                                                                  no me llego el articulo me lo mando por correos normal sin seguimiento y nunca me llego tota un desastre no me llego wireless  \n",
       "1                                                                                                                                                                                                                                                                                                                                                                                                             la mensajer a horrible no compro mas amazon sigue sin cumplir en las entregas home  \n",
       "2                                                                                                                                                                                                                                    estoy muy decepcionado con el vendedor ya que el pedido no me lleg a tiempo y no cumpli los plazos de env o y era una cosa que necesitaba urgente para colmo me pongo en contacto con el vendedor y no da se ales no recomiendo nada estafa en el env o toy  \n",
       "3  mi valoraci n no es sobre el producto sino sobre amazon ofrec is el producto a y tras varios d as me devolv is el dinero porque os hab is equivocado en el anuncio seg n vosotros ahora es es la primera vez que me ocurre esto cuando he comprado en cualquier sitio y el precio marcado no se correspond a con el valor de caja siempre me lo han vendido con el precio marcado es inveros mil lo ocurrido pero la ultima palabra me la dar la oficina del consumidor estafa de amazon home  \n",
       "4                                                                                                                                                                                               pues ten a inter s en este libro y prob la versi n kindle se abre la portada pero nada m s parece una mala broma pero me iba a gastar el dedo de tanto tratar que pasara de p gina de alguna forma no puedo valorar nada de nada no consegu pasar de la portada en kindle digital ebook purchase  "
      ]
     },
     "execution_count": 9,
     "metadata": {
      "tags": []
     },
     "output_type": "execute_result"
    }
   ],
   "source": [
    "data_test = pd.read_json('dataset_es_test.json', lines= True)\n",
    "# Elimino las columnas que no voy a utilizar en mi modelo\n",
    "data_test = data_test.drop(['review_id', 'product_id', 'reviewer_id', 'language'], axis = 1)\n",
    "data_test['review'] = data_test['review_body'].str.cat(data_test['review_title'],sep=\" \")\n",
    "data_test['review_title_cat'] = data_test['review'].str.cat(data_test['product_category'],sep=\" \")\n",
    "\n",
    "# Elimino las columnas que no voy a utilizar en mi modelo\n",
    "data_test = data_test.drop(['review_body', 'review_title', 'product_category', 'review'], axis = 1)\n",
    "\n",
    "review_body2 = []\n",
    "for review in data_test.review_title_cat:\n",
    "    # Vamos a reemplzar los caracteres que no sean leras por espacios\n",
    "    review=re.sub(\"[^a-zA-Z]\",\" \",str(review))\n",
    "    # Pasamos todo a minúsculas\n",
    "    review=review.lower()\n",
    "    # Tokenizamos para separar las palabras del titular\n",
    "    review=nltk.word_tokenize(review)\n",
    "    #Volvemos a unir el review\n",
    "    review=\" \".join(review)\n",
    "    # Vamos armando una lista con todos los titulares\n",
    "    review_body2.append(review)\n",
    "    \n",
    "data_test[\"review_1\"] = review_body2\n",
    "data_test = data_test.drop('review_title_cat', axis = 1)\n",
    "data_test.dropna(axis=0,inplace=True)  # Descarto nan\n",
    "\n",
    "# Guardo el archivo\n",
    "data_test.to_csv (r'/home/lulu/Documents/Acámica/data_test_proyecto4.csv', index = False, header=True)\n",
    "\n",
    "data_test.head()"
   ]
  },
  {
   "cell_type": "code",
   "execution_count": null,
   "metadata": {
    "id": "CQs83d0SZdIX"
   },
   "outputs": [],
   "source": [
    "# Llamo a la función \n",
    "spacy_lemma(data_test)\n",
    "# Guardo el dataset lemmatizado\n",
    "data_test.to_csv (r'/home/lulu/Documents/Acámica/data_test_proyecto4_lemma.csv', index = False, header=True)"
   ]
  },
  {
   "cell_type": "code",
   "execution_count": null,
   "metadata": {
    "id": "MUQ9m9TLZdIX"
   },
   "outputs": [],
   "source": [
    "# Traigo a los 2 datasets para continuar\n",
    "data_test = pd.read_csv('data_test_proyecto4_lemma.csv')\n",
    "data = pd.read_csv('data_proyecto4_lemma.csv')\n",
    "\n",
    "# Elimino la columna que no voy a utilizar y solamente me quedo con el review lemmatizado\n",
    "data_test = data_test.drop('review_1', axis = 1)\n",
    "data = data.drop('review_1', axis = 1)"
   ]
  },
  {
   "cell_type": "code",
   "execution_count": null,
   "metadata": {
    "id": "1VHlqynsZdIX",
    "outputId": "81dcd998-1431-453f-8ed9-ece3895aafd7"
   },
   "outputs": [
    {
     "data": {
      "text/html": [
       "<div>\n",
       "<style scoped>\n",
       "    .dataframe tbody tr th:only-of-type {\n",
       "        vertical-align: middle;\n",
       "    }\n",
       "\n",
       "    .dataframe tbody tr th {\n",
       "        vertical-align: top;\n",
       "    }\n",
       "\n",
       "    .dataframe thead th {\n",
       "        text-align: right;\n",
       "    }\n",
       "</style>\n",
       "<table border=\"1\" class=\"dataframe\">\n",
       "  <thead>\n",
       "    <tr style=\"text-align: right;\">\n",
       "      <th></th>\n",
       "      <th>stars</th>\n",
       "      <th>review_lemm</th>\n",
       "    </tr>\n",
       "  </thead>\n",
       "  <tbody>\n",
       "    <tr>\n",
       "      <th>0</th>\n",
       "      <td>1</td>\n",
       "      <td>nada bueno él yo ser ko pantalla en menos de mes no haber recibir respuesta del fabricante television nevir electronics</td>\n",
       "    </tr>\n",
       "    <tr>\n",
       "      <th>1</th>\n",
       "      <td>1</td>\n",
       "      <td>horrible yo tener que comprar otro porque ni yo que saber ingl ni uno inform tico despu de uno hora ser capaz de instalar él dinero tirado el basura con este compra electronics</td>\n",
       "    </tr>\n",
       "    <tr>\n",
       "      <th>2</th>\n",
       "      <td>1</td>\n",
       "      <td>tú obligar comprar dos unidad tú llegar solo uno no haber forma de reclamar uno autentico estafa no compreis solo llegar uno unidad cuando tú obligar comprar dos drugstore</td>\n",
       "    </tr>\n",
       "    <tr>\n",
       "      <th>3</th>\n",
       "      <td>1</td>\n",
       "      <td>no entrar en descalificar al vendedor solo poder decir que tras dos mes de espera seguir sin el producto tener que contactar con amazon para reclamar su reembolso amazon uno él hacer cargo del problema pero yo desembolsado mi dinero en dos mes yo él devolver perdido de tiempo total sin palabra tú decidir producto no recibido wireless</td>\n",
       "    </tr>\n",
       "    <tr>\n",
       "      <th>4</th>\n",
       "      <td>1</td>\n",
       "      <td>llegar tarde co el talla equivocado devuelto sho</td>\n",
       "    </tr>\n",
       "  </tbody>\n",
       "</table>\n",
       "</div>"
      ],
      "text/plain": [
       "   stars  \\\n",
       "0      1   \n",
       "1      1   \n",
       "2      1   \n",
       "3      1   \n",
       "4      1   \n",
       "\n",
       "                                                                                                                                                                                                                                                                                                                                       review_lemm  \n",
       "0                                                                                                                                                                                                                          nada bueno él yo ser ko pantalla en menos de mes no haber recibir respuesta del fabricante television nevir electronics  \n",
       "1                                                                                                                                                                 horrible yo tener que comprar otro porque ni yo que saber ingl ni uno inform tico despu de uno hora ser capaz de instalar él dinero tirado el basura con este compra electronics  \n",
       "2                                                                                                                                                                      tú obligar comprar dos unidad tú llegar solo uno no haber forma de reclamar uno autentico estafa no compreis solo llegar uno unidad cuando tú obligar comprar dos drugstore  \n",
       "3  no entrar en descalificar al vendedor solo poder decir que tras dos mes de espera seguir sin el producto tener que contactar con amazon para reclamar su reembolso amazon uno él hacer cargo del problema pero yo desembolsado mi dinero en dos mes yo él devolver perdido de tiempo total sin palabra tú decidir producto no recibido wireless  \n",
       "4                                                                                                                                                                                                                                                                                                 llegar tarde co el talla equivocado devuelto sho  "
      ]
     },
     "execution_count": 46,
     "metadata": {
      "tags": []
     },
     "output_type": "execute_result"
    }
   ],
   "source": [
    "data.head()"
   ]
  },
  {
   "cell_type": "markdown",
   "metadata": {
    "id": "ikpwmMEfs4iz"
   },
   "source": [
    "**Vectorización: TfidfVectorizer**\n",
    "\n",
    "En esta sección voy a emplear max_features igual a los elegidos para el Proyecto 3 (max_features=500) para poder evaluar solamente la influencia del preprocesamiento en el desempeño de mi mejor modelo de dicho proyecto. En este caso, además del CountVectorizer empleado en el Proyecto 3 agrego TF-IDF (Term frequency – Inverse document frequency) para ponderar mejor a los features del modelo. Empleo la función TfidfVectorizer que es equivalente a realizar CountVectorizer seguido de TfidfTransformer."
   ]
  },
  {
   "cell_type": "code",
   "execution_count": null,
   "metadata": {
    "id": "dK3vTerFs4iz",
    "outputId": "d2932347-03b8-41f9-ec62-4099359961e0"
   },
   "outputs": [
    {
     "name": "stdout",
     "output_type": "stream",
     "text": [
      "(200000, 500)\n",
      "(5000, 500)\n"
     ]
    }
   ],
   "source": [
    "# Train\n",
    "list_reviews = list(data['review_lemm'].values)\n",
    "stars = data['stars'].values\n",
    "# Test\n",
    "list_reviews_test = list(data_test['review_lemm'].values)\n",
    "stars_test = data_test['stars'].values\n",
    "\n",
    "vectorizer = TfidfVectorizer(max_features=500)\n",
    "\n",
    "# Train\n",
    "matriz = vectorizer.fit_transform(list_reviews)\n",
    "x = matriz.toarray()\n",
    "y = stars\n",
    "\n",
    "# Test\n",
    "matriz_test = vectorizer.transform(list_reviews_test)\n",
    "x_test = matriz_test.toarray()\n",
    "y_test = stars_test\n",
    "\n",
    "# Tomamos las palabras\n",
    "all_words = vectorizer.get_feature_names()\n",
    "\n",
    "print(x.shape)\n",
    "print(x_test.shape)"
   ]
  },
  {
   "cell_type": "code",
   "execution_count": null,
   "metadata": {
    "id": "3Gp1gruVZdIZ"
   },
   "outputs": [],
   "source": [
    "# Voy a guardar los arrays \"x\" e \"y\" de train y test para entrenar a los modelos posteriormente, empleo la libería numpy\n",
    "save('x.npy', x)\n",
    "save('y.npy', y)\n",
    "save('x_test.npy', x_test)\n",
    "save('y_test.npy', y_test)"
   ]
  },
  {
   "cell_type": "markdown",
   "metadata": {
    "id": "8wEtlRiJZdIZ"
   },
   "source": [
    "**Modelo: XGBoost**\n",
    "\n",
    "Voy a comparar el resultado del nuevo preprocesamiento del dataset en relación al anterior, utilizando el mejor modelo elegido en el Proyecto 3, con los hiperparámetros optimizados."
   ]
  },
  {
   "cell_type": "code",
   "execution_count": null,
   "metadata": {
    "id": "CvCobKHwZdIa"
   },
   "outputs": [],
   "source": [
    "# Defino el modelo Xgboost\n",
    "xg = xgb.XGBRegressor(base_score=0.5, booster='gbtree', colsample_bylevel=1,\n",
    "             colsample_bynode=1, colsample_bytree=1.0, gamma=0, gpu_id=-1,\n",
    "             importance_type='gain', interaction_constraints='',\n",
    "             learning_rate=0.2, max_delta_step=0, max_depth=5,\n",
    "             min_child_weight=1, monotone_constraints='()',\n",
    "             n_estimators=400, n_jobs=-1, num_parallel_tree=1, random_state=0,\n",
    "             reg_alpha=0, reg_lambda=1, scale_pos_weight=1, subsample=1.0,\n",
    "             tree_method='exact', validate_parameters=1, verbosity=None)"
   ]
  },
  {
   "cell_type": "code",
   "execution_count": null,
   "metadata": {
    "id": "4CFyQctqZdIa",
    "outputId": "bc6482df-a8f2-4286-f604-e8f39b4c4962"
   },
   "outputs": [
    {
     "data": {
      "text/plain": [
       "XGBRegressor(base_score=0.5, booster='gbtree', colsample_bylevel=1,\n",
       "             colsample_bynode=1, colsample_bytree=1.0, gamma=0, gpu_id=-1,\n",
       "             importance_type='gain', interaction_constraints='',\n",
       "             learning_rate=0.2, max_delta_step=0, max_depth=5,\n",
       "             min_child_weight=1, missing=nan, monotone_constraints='()',\n",
       "             n_estimators=400, n_jobs=-1, num_parallel_tree=1, random_state=0,\n",
       "             reg_alpha=0, reg_lambda=1, scale_pos_weight=1, subsample=1.0,\n",
       "             tree_method='exact', validate_parameters=1, verbosity=None)"
      ]
     },
     "execution_count": 7,
     "metadata": {
      "tags": []
     },
     "output_type": "execute_result"
    }
   ],
   "source": [
    "# Entreno el modelo\n",
    "xg.fit(x,y)"
   ]
  },
  {
   "cell_type": "code",
   "execution_count": null,
   "metadata": {
    "id": "B4u_kGrUZdIa"
   },
   "outputs": [],
   "source": [
    "# Realizo las predicciones\n",
    "y_train_pred_xg = xg.predict(x)\n",
    "y_test_pred_xg = xg.predict(x_test)"
   ]
  },
  {
   "cell_type": "code",
   "execution_count": null,
   "metadata": {
    "id": "v0YS9_Z-ZdIb",
    "outputId": "8f2e866a-bbb3-4bb7-fc1f-c16f6bca8fe0"
   },
   "outputs": [
    {
     "name": "stdout",
     "output_type": "stream",
     "text": [
      "MAE en train: 0.6371122347987525\n",
      "MAE en test: 0.684425637537241\n"
     ]
    }
   ],
   "source": [
    "# Evalúo el modelo con MAE\n",
    "mae_train_xg = mean_absolute_error(y, y_train_pred_xg)\n",
    "mae_test_xg = mean_absolute_error(y_test, y_test_pred_xg)\n",
    "\n",
    "print('MAE en train:', mae_train_xg)\n",
    "print('MAE en test:', mae_test_xg)"
   ]
  },
  {
   "cell_type": "code",
   "execution_count": null,
   "metadata": {
    "id": "UJO6AlTbZdIc",
    "outputId": "84b635a2-248a-4049-8a38-9906ec3a9c2f"
   },
   "outputs": [
    {
     "name": "stdout",
     "output_type": "stream",
     "text": [
      "RMSE en train: 0.8047497019432066\n",
      "RMSE en test: 0.8627290575729287\n"
     ]
    }
   ],
   "source": [
    "# Evalúo el modelo con RMSE\n",
    "rmse_train_xg = mean_squared_error(y, y_train_pred_xg, squared=False)\n",
    "rmse_test_xg = mean_squared_error(y_test, y_test_pred_xg, squared=False)\n",
    "print('RMSE en train:', rmse_train_xg)\n",
    "print('RMSE en test:', rmse_test_xg)"
   ]
  },
  {
   "cell_type": "markdown",
   "metadata": {
    "id": "kdbNZ468ZdIc"
   },
   "source": [
    "### **1- Conclusiones sobre el preprocesamiento de datos**\n",
    "\n",
    "**XGBoost Regressor Proyecto 3**     \n",
    "MAE en test: 0.7478    \n",
    "RMSE en test: 0.9362   \n",
    "\n",
    "**XGBoost Regressor Proyecto 4**    \n",
    "MAE en test: 0.6844    \n",
    "RMSE en test: 0.8627 \n",
    "\n",
    "Al correr el mejor modelo del Proyecto 3 con un nuevo preprocesamiento de datos, se obseva que el agregado de información extra (review_title y product_category) al cuerpo de la crítica (review_body) es una buena medida para mejorar la performance del modelo al disminuir tanto los valores de MAE como RMSE en las predicciones."
   ]
  },
  {
   "cell_type": "markdown",
   "metadata": {
    "id": "f_1BQdl2ZdId"
   },
   "source": [
    "### **2- Red Neuronal Simple**\n",
    "\n",
    "Para probar este nuevo modelo voy a emplear **Keras**, el cual es un framework de alto nivel para el aprendizaje, escrito en Python y que es capaz de correr sobre diferentes frameworks. En este caso utilizaré Keras para correr sobre **Tensorflow**. \n",
    "\n",
    "Empleando Keras es posible crear modelos de aprendizaje supervisado experimentales para resolver un problema en concreto, en este caso predecir stars (1 al 5) a partir de datos de la crítica de un producto realizada por un usuario/a."
   ]
  },
  {
   "cell_type": "code",
   "execution_count": 3,
   "metadata": {
    "id": "jQ8KGYsRZdIe"
   },
   "outputs": [],
   "source": [
    "# Cargo X e Y de train y test set\n",
    "x = np.load('x.npy')\n",
    "y = np.load('y.npy')\n",
    "x_test = np.load('x_test.npy')\n",
    "y_test = np.load('y_test.npy')"
   ]
  },
  {
   "cell_type": "code",
   "execution_count": null,
   "metadata": {
    "colab": {
     "base_uri": "https://localhost:8080/"
    },
    "id": "GfMNr1ipZdIe",
    "outputId": "4f19846e-bebe-4cb3-8f54-c83a8f73e5e1"
   },
   "outputs": [
    {
     "name": "stdout",
     "output_type": "stream",
     "text": [
      "X_train shape: (200000, 500)\n",
      "y_train shape: (200000,)\n",
      "X_test shape: (5000, 500)\n",
      "y_test shape: (5000,)\n"
     ]
    }
   ],
   "source": [
    "# Shape de set de entrenamiento y testeo\n",
    "print(\"X_train shape:\", x.shape)\n",
    "print(\"y_train shape:\", y.shape)\n",
    "print(\"X_test shape:\", x_test.shape)\n",
    "print(\"y_test shape:\", y_test.shape)"
   ]
  },
  {
   "cell_type": "code",
   "execution_count": null,
   "metadata": {
    "colab": {
     "base_uri": "https://localhost:8080/"
    },
    "id": "vzBWJVjDZdIe",
    "outputId": "7b2000ae-b307-4e78-85ad-79e06e8b56dc"
   },
   "outputs": [
    {
     "name": "stdout",
     "output_type": "stream",
     "text": [
      "Values: [1 2 3 4 5]\n",
      "Counts: [40000 40000 40000 40000 40000]\n"
     ]
    }
   ],
   "source": [
    "# Chequeo cantidad de stars y datos en cada una\n",
    "values,counts = np.unique(y, return_counts=True)\n",
    "print(\"Values:\", values)\n",
    "print(\"Counts:\", counts)"
   ]
  },
  {
   "cell_type": "markdown",
   "metadata": {
    "id": "uII40hbxbwg4"
   },
   "source": [
    "**Red neuronal simple**\n",
    "\n",
    "Voy a comenzar probando una red neuronal simple, con hiperparámetros por default, para evaluar el punto de partida del modelo.\n",
    "\n",
    "No utilizo función de activación en la última capa debido a que es un problema de regresión y busco predecir valores númericos (1 a 5 star) sin transformar. \n",
    "\n",
    "Agrego también al modelo el Dropout que es una técnica de regularización propuesta por Srivastava, et al. (2014) en su trabajo \"Dropout: A Simple Way to Prevent Neural Networks from Overfitting\". Con esta técnica se seleccionan al azar algunas neuronas que serán ignoradas durante el entrenamiento para evitar el overfitting.\n"
   ]
  },
  {
   "cell_type": "code",
   "execution_count": null,
   "metadata": {
    "colab": {
     "base_uri": "https://localhost:8080/"
    },
    "id": "rM6uwqS8XtTw",
    "outputId": "89f82b5e-e213-4ed0-b190-f8012a09cd0d"
   },
   "outputs": [
    {
     "name": "stdout",
     "output_type": "stream",
     "text": [
      "Epoch 1/10\n",
      "6250/6250 [==============================] - 14s 2ms/step - loss: 0.8429 - root_mean_squared_error: 1.3171 - val_loss: 0.6631 - val_root_mean_squared_error: 0.9738\n",
      "Epoch 2/10\n",
      "6250/6250 [==============================] - 12s 2ms/step - loss: 0.6930 - root_mean_squared_error: 0.9613 - val_loss: 0.6498 - val_root_mean_squared_error: 0.9335\n",
      "Epoch 3/10\n",
      "6250/6250 [==============================] - 12s 2ms/step - loss: 0.6669 - root_mean_squared_error: 0.9272 - val_loss: 0.6367 - val_root_mean_squared_error: 0.9127\n",
      "Epoch 4/10\n",
      "6250/6250 [==============================] - 12s 2ms/step - loss: 0.6494 - root_mean_squared_error: 0.9083 - val_loss: 0.6610 - val_root_mean_squared_error: 0.8986\n",
      "Epoch 5/10\n",
      "6250/6250 [==============================] - 12s 2ms/step - loss: 0.6342 - root_mean_squared_error: 0.8951 - val_loss: 0.6218 - val_root_mean_squared_error: 0.8880\n",
      "Epoch 6/10\n",
      "6250/6250 [==============================] - 12s 2ms/step - loss: 0.6283 - root_mean_squared_error: 0.8855 - val_loss: 0.6253 - val_root_mean_squared_error: 0.8794\n",
      "Epoch 7/10\n",
      "6250/6250 [==============================] - 12s 2ms/step - loss: 0.6185 - root_mean_squared_error: 0.8771 - val_loss: 0.6151 - val_root_mean_squared_error: 0.8720\n",
      "Epoch 8/10\n",
      "6250/6250 [==============================] - 12s 2ms/step - loss: 0.6123 - root_mean_squared_error: 0.8702 - val_loss: 0.6193 - val_root_mean_squared_error: 0.8658\n",
      "Epoch 9/10\n",
      "6250/6250 [==============================] - 12s 2ms/step - loss: 0.6036 - root_mean_squared_error: 0.8641 - val_loss: 0.6207 - val_root_mean_squared_error: 0.8603\n",
      "Epoch 10/10\n",
      "6250/6250 [==============================] - 12s 2ms/step - loss: 0.5994 - root_mean_squared_error: 0.8588 - val_loss: 0.6171 - val_root_mean_squared_error: 0.8553\n"
     ]
    }
   ],
   "source": [
    "model1 = Sequential()\n",
    "model1.add(Dense(100, kernel_initializer='normal', activation='relu', name=\"Input_layer\"))\n",
    "model1.add(Dropout(0.2))\n",
    "model1.add(Dense(100, activation='relu', name=\"Hidden_layer_1\"))\n",
    "model1.add(Dropout(0.2))\n",
    "model1.add(Dense(1, kernel_initializer='normal', name=\"Output_layer\"))\n",
    "optimizer = tf.keras.optimizers.Adam()\n",
    "model1.compile(loss='mean_absolute_error', metrics=[tf.keras.metrics.RootMeanSquaredError()], optimizer=optimizer)\n",
    "\n",
    "# Entreno el modelo y guardo las métricas en history\n",
    "history = model1.fit(x, y, batch_size=32, epochs=10, verbose=1, validation_data=(x_test, y_test))"
   ]
  },
  {
   "cell_type": "markdown",
   "metadata": {
    "id": "fArZ6-8hX2e7"
   },
   "source": [
    "Para el set de validación (test) la métrica obtenida con una red neuronal simple fue RMSE = 0.8553 y MAE: 0.6171. \n",
    "\n",
    "El desempeño es muy similar al obtenido con el modelo XGBoost Regressor (RMSE = 0.8627 y MAE = 0.6844), por lo que probablemente, la optimización y agregado de capas internas puedan ayudar a mejorar la performance del modelo."
   ]
  },
  {
   "cell_type": "code",
   "execution_count": 16,
   "metadata": {
    "colab": {
     "base_uri": "https://localhost:8080/"
    },
    "id": "SLDP44alx6_w",
    "outputId": "99aa6ffa-f95a-462e-eb5e-98dcbac00ae4"
   },
   "outputs": [
    {
     "name": "stderr",
     "output_type": "stream",
     "text": [
      "/usr/local/lib/python3.7/dist-packages/joblib/externals/loky/process_executor.py:691: UserWarning: A worker stopped while some jobs were given to the executor. This can be caused by a too short worker timeout or by a memory leak.\n",
      "  \"timeout or by a memory leak.\", UserWarning\n"
     ]
    }
   ],
   "source": [
    "# Defino una función para crear un modelo, que es necesaria para KerasRegressor\n",
    "def create_model2(learning_rate=0.01):\n",
    "    model = Sequential()\n",
    "    model.add(Dense(100, kernel_initializer='normal', activation='relu', name=\"Input_layer\"))\n",
    "    model.add(Dropout(0.2))\n",
    "    model.add(Dense(100, activation='relu', name=\"Hidden_layer_1\"))\n",
    "    model.add(Dropout(0.2))\n",
    "    model.add(Dense(1, kernel_initializer='normal', name=\"Output_layer\"))\n",
    "    optimizer = tf.keras.optimizers.Adam(learning_rate=learning_rate)\n",
    "    model.compile(loss='mean_absolute_error', metrics=[tf.keras.metrics.RootMeanSquaredError()], optimizer=optimizer)\n",
    "    return model\n",
    "  \n",
    "# Creo el modelo\n",
    "model2 = KerasRegressor(build_fn=create_model2, batch_size=32, verbose=0)\n",
    "\n",
    "# Defino los parámetros para grid search\n",
    "learning_rate = [0.001, 0.01, 0.1]\n",
    "epochs = [15, 20, 30]\n",
    "param_grid = dict(learning_rate=learning_rate, epochs=epochs)\n",
    "\n",
    "grid2 = GridSearchCV(estimator=model2, param_grid=param_grid, n_jobs=-1)\n",
    "grid_result2 = grid2.fit(x, y)"
   ]
  },
  {
   "cell_type": "code",
   "execution_count": 17,
   "metadata": {
    "colab": {
     "base_uri": "https://localhost:8080/"
    },
    "id": "4hz-FdDh5mN_",
    "outputId": "5258b9ec-686c-4afd-ac97-2b197de9c110"
   },
   "outputs": [
    {
     "name": "stdout",
     "output_type": "stream",
     "text": [
      "Mejor resultado: -1.121527 , obtenido empleando {'epochs': 20, 'learning_rate': 0.001}\n",
      "-1.153162 (0.237746) with: {'epochs': 15, 'learning_rate': 0.001}\n",
      "-1.158629 (0.277290) with: {'epochs': 15, 'learning_rate': 0.01}\n",
      "-1.369463 (0.409713) with: {'epochs': 15, 'learning_rate': 0.1}\n",
      "-1.121527 (0.206526) with: {'epochs': 20, 'learning_rate': 0.001}\n",
      "-1.126206 (0.277854) with: {'epochs': 20, 'learning_rate': 0.01}\n",
      "-1.365103 (0.483176) with: {'epochs': 20, 'learning_rate': 0.1}\n",
      "-1.139939 (0.212981) with: {'epochs': 30, 'learning_rate': 0.001}\n",
      "-1.146205 (0.194187) with: {'epochs': 30, 'learning_rate': 0.01}\n",
      "-1.615392 (0.729988) with: {'epochs': 30, 'learning_rate': 0.1}\n"
     ]
    }
   ],
   "source": [
    "# Resumen de resultados\n",
    "print(\"Mejor resultado: %f , obtenido empleando %s\" % (grid_result2.best_score_, grid_result2.best_params_))\n",
    "means2 = grid_result2.cv_results_['mean_test_score']\n",
    "stds2 = grid_result2.cv_results_['std_test_score']\n",
    "params2 = grid_result2.cv_results_['params']\n",
    "\n",
    "for mean, stdev, param in zip(means2, stds2, params2):\n",
    "    print(\"%f (%f) with: %r\" % (mean, stdev, param))"
   ]
  },
  {
   "cell_type": "markdown",
   "metadata": {
    "id": "EUacZfWj0S7g"
   },
   "source": [
    "Evalúo con los hiperparámetros learning_rate y epchos optimizados"
   ]
  },
  {
   "cell_type": "code",
   "execution_count": 4,
   "metadata": {
    "id": "cfcXgsLEfxAv"
   },
   "outputs": [],
   "source": [
    "model = Sequential()\n",
    "model.add(Dense(100, kernel_initializer='normal', activation='relu', name=\"Input_layer\"))\n",
    "model.add(Dropout(0.2))\n",
    "model.add(Dense(100, activation='relu', name=\"Hidden_layer_1\"))\n",
    "model.add(Dropout(0.2))\n",
    "model.add(Dense(1, kernel_initializer='normal', name=\"Output_layer\"))\n",
    "optimizer = tf.keras.optimizers.Adam(learning_rate=0.001)\n",
    "\n",
    "model.compile(loss='mean_absolute_error', metrics=[tf.keras.metrics.RootMeanSquaredError()], optimizer=optimizer)\n",
    "\n",
    "# Entreno el modelo y guardo las métricas en history\n",
    "history = model.fit(x, y,\n",
    "          batch_size=32, epochs=20,\n",
    "          verbose=0,\n",
    "          validation_data=(x_test, y_test))"
   ]
  },
  {
   "cell_type": "code",
   "execution_count": 5,
   "metadata": {
    "colab": {
     "base_uri": "https://localhost:8080/"
    },
    "id": "hrXcK7Y1rE7M",
    "outputId": "312ff3ca-ca03-424e-87c7-02f803315494"
   },
   "outputs": [
    {
     "name": "stdout",
     "output_type": "stream",
     "text": [
      "Model: \"sequential\"\n",
      "_________________________________________________________________\n",
      "Layer (type)                 Output Shape              Param #   \n",
      "=================================================================\n",
      "Input_layer (Dense)          (None, 100)               50100     \n",
      "_________________________________________________________________\n",
      "dropout (Dropout)            (None, 100)               0         \n",
      "_________________________________________________________________\n",
      "Hidden_layer_1 (Dense)       (None, 100)               10100     \n",
      "_________________________________________________________________\n",
      "dropout_1 (Dropout)          (None, 100)               0         \n",
      "_________________________________________________________________\n",
      "Output_layer (Dense)         (None, 1)                 101       \n",
      "=================================================================\n",
      "Total params: 60,301\n",
      "Trainable params: 60,301\n",
      "Non-trainable params: 0\n",
      "_________________________________________________________________\n"
     ]
    }
   ],
   "source": [
    "model.summary()"
   ]
  },
  {
   "cell_type": "markdown",
   "metadata": {
    "id": "EyF7Jt4Ef3pJ"
   },
   "source": [
    "Podemos ver que a pesar de ser un modelo simple de red neuronal, tiene que entrenar más de 60 mil parámetros."
   ]
  },
  {
   "cell_type": "code",
   "execution_count": null,
   "metadata": {
    "id": "AKviwYwav3d0"
   },
   "outputs": [],
   "source": [
    "# Para probar predicciones\n",
    "salida = model.predict(x_test[2998:3003])\n",
    "print(y_test[2998:3003])\n",
    "print('Salida:',salida)"
   ]
  },
  {
   "cell_type": "code",
   "execution_count": 7,
   "metadata": {
    "id": "CY1Oqda5KwGC"
   },
   "outputs": [],
   "source": [
    "#Defino una función para graficar loss y metrics del modelo, para eso empleo la libería matplotlib\n",
    "\n",
    "# Para saber qué nombres llamar al histograma de loss y metrics\n",
    "# print(history.history.keys())\n",
    "\n",
    "def plot_history(history):\n",
    "    hist = pd.DataFrame(history.history)\n",
    "    hist['epoch'] = history.epoch\n",
    "    plt.figure()\n",
    "    plt.xlabel('Epoch')\n",
    "    plt.ylabel('Root_mean_squared_error')\n",
    "    plt.title('RMSE vs Epoch')\n",
    "    plt.plot(hist['epoch'], hist['root_mean_squared_error'],\n",
    "           label='Train Error')\n",
    "    plt.plot(hist['epoch'], hist['val_root_mean_squared_error'],\n",
    "           label = 'Val Error')\n",
    "    plt.legend()\n",
    "    \n",
    "    plt.figure()\n",
    "    plt.xlabel('Epoch')\n",
    "    plt.ylabel('Mean absolute error')\n",
    "    plt.title('MAE vs Epoch')\n",
    "    plt.plot(hist['epoch'], hist['loss'],\n",
    "           label='Train Error')\n",
    "    plt.plot(hist['epoch'], hist['val_loss'],\n",
    "           label = 'Val Error')\n",
    "    plt.legend()\n",
    "    plt.show()\n",
    "    return"
   ]
  },
  {
   "cell_type": "code",
   "execution_count": 8,
   "metadata": {
    "colab": {
     "base_uri": "https://localhost:8080/",
     "height": 573
    },
    "id": "CJIrfN6zRAjC",
    "outputId": "77dae977-92af-4c0b-b291-6f1e42d63699"
   },
   "outputs": [
    {
     "data": {
      "image/png": "[encoded data removed]",
      "text/plain": [
       "<Figure size 432x288 with 1 Axes>"
      ]
     },
     "metadata": {
      "needs_background": "light",
      "tags": []
     },
     "output_type": "display_data"
    },
    {
     "data": {
      "image/png": "[encoded data removed]",
      "text/plain": [
       "<Figure size 432x288 with 1 Axes>"
      ]
     },
     "metadata": {
      "needs_background": "light",
      "tags": []
     },
     "output_type": "display_data"
    }
   ],
   "source": [
    "plot_history(history)"
   ]
  },
  {
   "cell_type": "markdown",
   "metadata": {
    "id": "BGWx7ihNwFBQ"
   },
   "source": [
    "En el caso de esta red neuronal casi no se detecta overfitting ni underfitting, debido a que a pesar de el error absoluto (MAE) es menor en el train set, los valores son bastante similares y casi no hay diferencia en el valor de RMSE en ambos sets."
   ]
  },
  {
   "cell_type": "code",
   "execution_count": 5,
   "metadata": {
    "id": "bMzoBR16OLk1"
   },
   "outputs": [],
   "source": [
    "# Predigo sobre el test set\n",
    "y_test_pred = model.predict(x_test)\n",
    "# Predigo sobre el train set\n",
    "y_train_pred = model.predict(x)\n",
    "\n",
    "# Guardo y_test_pred e y_train_pred\n",
    "save('y_test_pred.npy', y_test_pred)\n",
    "save('y_train_pred.npy', y_train_pred)"
   ]
  },
  {
   "cell_type": "code",
   "execution_count": 4,
   "metadata": {
    "id": "ssWXEZUAqVJ_"
   },
   "outputs": [],
   "source": [
    "# Estas celdas son opcionales, en caso de que se quieran analizar las predicciones en otro momento futuro\n",
    "\n",
    "# y_test_pred = np.load('y_test_pred.npy')\n",
    "# y_train_pred = np.load('y_train_pred.npy')\n",
    "\n",
    "# x = np.load('x.npy')\n",
    "# y = np.load('y.npy')\n",
    "# x_test = np.load('x_test.npy')\n",
    "# y_test = np.load('y_test.npy')"
   ]
  },
  {
   "cell_type": "code",
   "execution_count": 8,
   "metadata": {
    "colab": {
     "base_uri": "https://localhost:8080/",
     "height": 423
    },
    "id": "0Sosr5KKLiPX",
    "outputId": "1c00c95c-e0e2-47f1-9f56-6e55dbad43d2"
   },
   "outputs": [
    {
     "name": "stderr",
     "output_type": "stream",
     "text": [
      "/usr/local/lib/python3.7/dist-packages/seaborn/distributions.py:2557: FutureWarning: `distplot` is a deprecated function and will be removed in a future version. Please adapt your code to use either `displot` (a figure-level function with similar flexibility) or `histplot` (an axes-level function for histograms).\n",
      "  warnings.warn(msg, FutureWarning)\n"
     ]
    },
    {
     "data": {
      "image/png": "[encoded data removed]",
      "text/plain": [
       "<Figure size 720x360 with 2 Axes>"
      ]
     },
     "metadata": {
      "needs_background": "light",
      "tags": []
     },
     "output_type": "display_data"
    }
   ],
   "source": [
    "# Grafico los errores\n",
    "plt.figure(figsize = (10,5))\n",
    "plt.subplot(1,2,1)\n",
    "# sns.distplot(y - y_train_pred, bins = 20, label = 'train')\n",
    "sns.distplot(y_test - y_test_pred, bins = 20, label = 'test')\n",
    "plt.xlabel('Distribución de errores en Red neuronal')\n",
    "plt.legend()\n",
    "ax = plt.subplot(1,2,2)\n",
    "ax.scatter(y_test,y_test_pred, s =2)\n",
    "# lims = [1, 6]\n",
    "ax.plot(lims, lims, 'k-', alpha=0.75, zorder=0)\n",
    "# ax.plot(lims, lims, 'k-', alpha=0.75)\n",
    "plt.xlabel('y (test)')\n",
    "plt.ylabel('y_pred (test)')\n",
    "plt.tight_layout()\n",
    "plt.show()"
   ]
  },
  {
   "cell_type": "markdown",
   "metadata": {
    "id": "xWdghgO-fPQA"
   },
   "source": [
    "Es posible ver que la mayor parte de los errores tienen valores positivos (y real - y predicho > 0), es decir que el modelo tiene mayor tendencia a predecir números de menor valor que el real. También se observa que la mayor frecuencia de errores es de 0, y continúa en valores decrecientes hacia los números mayores.\n",
    "\n",
    "Se observa que la mayor parte de los errores se cometen en los extremos (1 y 5) en donde la distribución de puntos es mayor a 1 para la categría 1 star y menor a 5 para 5 stars (respecto a los valores centrales 2, 3 y 4).\n",
    "\n",
    "\n",
    "\n",
    "## **Conclusiones finales**\n",
    "\n",
    "**XGBoost Regressor Proyecto 3** (Benchmark del Proyecto 4)     \n",
    "MAE en test: 0.7478    \n",
    "RMSE en test: 0.9362\n",
    "\n",
    "**XGBoost Regressor Proyecto 4** (Mejoras en el preprocesamiento)   \n",
    "MAE en test: 0.6844   \n",
    "RMSE en test: 0.8627\n",
    "\n",
    "**Red Neuronal Proyecto 4** (Red neuronal sin optimizar)    \n",
    "MAE en test: 0.6171   \n",
    "RMSE en test: 0.8553\n",
    "\n",
    "**Red Neuronal Proyecto 4** (Con optimización de hiperparámetros)    \n",
    "MAE en test: 0.6181   \n",
    "**RMSE en test: 0.8257**\n",
    "\n",
    "Se evidencia que los cambios en el preprocesamiento de los datos contirbuye a la mejora del modelo (XGBoost Regressor del Proyecto 3 vs Proyecto 4). También es notoria la mejora de una red neuronal con hiperparámetros optimizados respecto del modelo XGBoost Regressor, demostrada en la disminución tanto de MAE como en RMSE.  \n",
    "\n",
    "Con perspectivas futuras, sería apropiado ahondar en optimizar la arquitectura de la red neuronal, otros hiperparámetros de interés y evaluar la posibilidad de conocer cuáles son los features más importantes para el modelo. Es intersante observar que para concretar muchos de estos objetivos es necesaria una buena capacidad computacional, debido al tiempo y recursos que demanda poner en práctica una red neuronal. \n",
    "\n",
    "\n",
    "Github en donde se encuentra disponible este proyecto y los anteriores:\n",
    "https://github.com/lusoken."
   ]
  }
 ],
 "metadata": {
  "accelerator": "GPU",
  "colab": {
   "collapsed_sections": [
    "kdbNZ468ZdIc"
   ],
   "name": "Luciana_Soken_DS_Proyecto_4.ipynb",
   "provenance": []
  },
  "kernelspec": {
   "display_name": "Python 3",
   "language": "python",
   "name": "python3"
  },
  "language_info": {
   "codemirror_mode": {
    "name": "ipython",
    "version": 3
   },
   "file_extension": ".py",
   "mimetype": "text/x-python",
   "name": "python",
   "nbconvert_exporter": "python",
   "pygments_lexer": "ipython3",
   "version": "3.7.10"
  }
 },
 "nbformat": 4,
 "nbformat_minor": 4
}
